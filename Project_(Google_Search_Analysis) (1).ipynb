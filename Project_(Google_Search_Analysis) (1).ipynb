{
  "nbformat": 4,
  "nbformat_minor": 0,
  "metadata": {
    "colab": {
      "provenance": []
    },
    "kernelspec": {
      "name": "python3",
      "display_name": "Python 3"
    },
    "language_info": {
      "name": "python"
    }
  },
  "cells": [
    {
      "cell_type": "markdown",
      "source": [
        "# Google Search Analysis"
      ],
      "metadata": {
        "id": "ciT_ze7HtelH"
      }
    },
    {
      "cell_type": "code",
      "execution_count": null,
      "metadata": {
        "id": "d_v_WfL4q2YR"
      },
      "outputs": [],
      "source": [
        "## Google Search Analysis\n",
        "\n",
        "# Approximately 3.5 billion search are performs on google daily, which means that approximately 40,000\n",
        "\n",
        "# search are performed every second on Google. so google search is a great use case for analyzing data\n",
        "# based on search queries.\n",
        "\n",
        "# Google does't give ,uch access to the data about daily search queries, but another application of google\n",
        "# known as  Google Trends.\n",
        "\n",
        "# can be used for the task of Google search analysis. google trands provides an API that can be\n",
        "# that can be use to analyze the daily searchs on Google.\n",
        "\n",
        "# this API is known as pytrends."
      ]
    },
    {
      "cell_type": "code",
      "source": [
        "# !pip install pytrends"
      ],
      "metadata": {
        "id": "O2SJ3xh-snAs"
      },
      "execution_count": null,
      "outputs": []
    },
    {
      "cell_type": "code",
      "source": [
        "import pandas as pd\n",
        "from pytrends.request import TrendReq\n",
        "import matplotlib.pyplot as plt\n",
        "trends = TrendReq()"
      ],
      "metadata": {
        "id": "_Xdro1zgsvR0"
      },
      "execution_count": null,
      "outputs": []
    },
    {
      "cell_type": "code",
      "source": [
        "# i will be analyzing the google search trends on the queries based on 'Machine Learning'\n",
        "#  so let's create a DataFrame of the top 10 countries which search for 'Machine Learning' on Google."
      ],
      "metadata": {
        "id": "6h-z43Ubuvz7"
      },
      "execution_count": null,
      "outputs": []
    },
    {
      "cell_type": "code",
      "source": [
        "trends.build_payload(kw_list = ['Machine Learning'])\n",
        "data = trends.interest_by_region()\n",
        "data = data.sort_values(by = 'Machine Learning', ascending = False)\n",
        "data = data.head(10)\n",
        "print(data)"
      ],
      "metadata": {
        "colab": {
          "base_uri": "https://localhost:8080/"
        },
        "id": "ej_buugOvJfh",
        "outputId": "5ddf6930-21ef-41be-c58c-6e40b790c7e0"
      },
      "execution_count": null,
      "outputs": [
        {
          "output_type": "stream",
          "name": "stdout",
          "text": [
            "             Machine Learning\n",
            "geoName                      \n",
            "China                     100\n",
            "Ethiopia                   60\n",
            "Singapore                  52\n",
            "India                      47\n",
            "Tunisia                    35\n",
            "Sri Lanka                  34\n",
            "Pakistan                   32\n",
            "Kenya                      31\n",
            "South Korea                31\n",
            "Hong Kong                  30\n"
          ]
        }
      ]
    },
    {
      "cell_type": "code",
      "source": [
        "#  so, according to the above results, the search queries based on 'Machine Learning' are mostly done in chaina.\n",
        "# we can also visualize this data"
      ],
      "metadata": {
        "id": "t5m-IE2Svws1"
      },
      "execution_count": null,
      "outputs": []
    },
    {
      "cell_type": "code",
      "source": [
        "data.reset_index().plot(x='geo')"
      ],
      "metadata": {
        "id": "JgWwsNLHwUml"
      },
      "execution_count": null,
      "outputs": []
    }
  ]
}